{
    "metadata": {
        "kernelspec": {
            "name": "python3",
            "display_name": "Python 3 (ipykernel)",
            "language": "python"
        }
    },
    "nbformat": 4,
    "nbformat_minor": 2,
    "cells": [
        {
            "attachments": {},
            "cell_type": "markdown",
            "metadata": {},
            "source": [
                "**Describe the problem that you chose to solve. How is it related to the topic that your team will investigate for the Discover AI project?**"
            ]
        },
        {
            "attachments": {},
            "cell_type": "markdown",
            "metadata": {},
            "source": [
                "I choose the titanic dataset and use supervised learning. Titanic is a very specific question for ML and data analysis. I am wondering the relationship between different features and survivial rate. This problem is very nice to people who just know ML and can be applied many algorithms. So, something I learn from DISCOVER AI can also be applied in like decision-tree."
            ]
        },
        {
            "attachments": {},
            "cell_type": "markdown",
            "metadata": {},
            "source": [
                "**Did you have to clean your dataset? If yes, desribe what you did.**"
            ]
        },
        {
            "attachments": {},
            "cell_type": "markdown",
            "metadata": {},
            "source": [
                "Based on the instruction of the notebook, \"edit your file to get rid of the null entries until the code returns False for all columns\", I ran the command and find there is a conlumn named \"Embarked\" is true. Even it might be important in the whole projects, but it will not bring big impact on my current coding，so I simply drop this conlumn."
            ]
        },
        {
            "attachments": {},
            "cell_type": "markdown",
            "metadata": {},
            "source": [
                "**Did the program run successfully? If yes, summarise the results, otherwise, describe what went wrong and your attempt(s) to fix it.**"
            ]
        },
        {
            "attachments": {},
            "cell_type": "markdown",
            "metadata": {},
            "source": [
                "At first, it does not. I put a continuous column name in decision tree traning model, it reminds me it is \"continuous\". So I change to Pclass, which is a discrete variable. Now the traning model works fine!"
            ]
        },
        {
            "attachments": {},
            "cell_type": "markdown",
            "metadata": {},
            "source": [
                "**Insert github link for lab 2**\n",
                "\n",
                "[How to create a github repository and upload files](https://drive.google.com/file/d/1XmCQTco7y8ikB9RGiY3LhONylRuReQ8X/view)."
            ]
        },
        {
            "attachments": {},
            "cell_type": "markdown",
            "metadata": {},
            "source": [
                ""
            ]
        }
    ]
}
